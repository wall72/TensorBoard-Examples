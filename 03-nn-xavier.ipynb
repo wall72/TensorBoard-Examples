{
 "cells": [
  {
   "cell_type": "code",
   "execution_count": 1,
   "metadata": {
    "collapsed": false
   },
   "outputs": [
    {
     "name": "stdout",
     "output_type": "stream",
     "text": [
      "Extracting /tmp/data/train-images-idx3-ubyte.gz\n",
      "Extracting /tmp/data/train-labels-idx1-ubyte.gz\n",
      "Extracting /tmp/data/t10k-images-idx3-ubyte.gz\n",
      "Extracting /tmp/data/t10k-labels-idx1-ubyte.gz\n"
     ]
    }
   ],
   "source": [
    "import datetime as dt\n",
    "import random\n",
    "import tensorflow as tf\n",
    "\n",
    "# Get timestamp\n",
    "timestamp = dt.datetime.now().strftime('%Y%m%d%H%M%S')\n",
    "\n",
    "# Import MINST data\n",
    "from tensorflow.examples.tutorials.mnist import input_data\n",
    "mnist = input_data.read_data_sets(\"/tmp/data/\", one_hot=True)\n",
    "\n",
    "# Parameters\n",
    "learning_rate = 0.001\n",
    "training_epochs = 8000\n",
    "batch_size = 100\n",
    "display_step = 10"
   ]
  },
  {
   "cell_type": "code",
   "execution_count": 2,
   "metadata": {
    "collapsed": false
   },
   "outputs": [
    {
     "data": {
      "text/plain": [
       "<tf.Tensor 'HistogramSummary_5:0' shape=() dtype=string>"
      ]
     },
     "execution_count": 2,
     "metadata": {},
     "output_type": "execute_result"
    }
   ],
   "source": [
    "# tf graph input\n",
    "X = tf.placeholder(tf.float32, [None, 784], name = 'X-input')\n",
    "Y = tf.placeholder(tf.float32, [None, 10], name = 'Y-input')\n",
    "\n",
    "# Set model weights\n",
    "W1 = tf.get_variable(\"Weight1\", shape = [784, 256], initializer = tf.contrib.layers.xavier_initializer())\n",
    "W2 = tf.get_variable(\"Weight2\", shape = [256, 256], initializer = tf.contrib.layers.xavier_initializer())\n",
    "W3 = tf.get_variable(\"Weight3\", shape = [256, 10], initializer = tf.contrib.layers.xavier_initializer())\n",
    "\n",
    "B1 = tf.Variable(tf.random_normal([256]), name = 'Bias1')\n",
    "B2 = tf.Variable(tf.random_normal([256]), name = 'Bias2')\n",
    "B3 = tf.Variable(tf.random_normal([10]), name = 'Bias3')\n",
    "\n",
    "tf.histogram_summary('Weight1', W1)\n",
    "tf.histogram_summary('Weight2', W2)\n",
    "tf.histogram_summary('Weight3', W3)\n",
    "\n",
    "tf.histogram_summary('Bias1', B1)\n",
    "tf.histogram_summary('Bias2', B2)\n",
    "tf.histogram_summary('Bias3', B3)"
   ]
  },
  {
   "cell_type": "code",
   "execution_count": 3,
   "metadata": {
    "collapsed": false
   },
   "outputs": [],
   "source": [
    "# Construct model\n",
    "with tf.name_scope('Layer1'):\n",
    "    L1 = tf.nn.relu(tf.add(tf.matmul(X, W1), B1))\n",
    "with tf.name_scope('Layer2'):\n",
    "    L2 = tf.nn.relu(tf.add(tf.matmul(L1, W2), B2))\n",
    "with tf.name_scope('Layer3'):\n",
    "    hypothesis = tf.add(tf.matmul(L2, W3), B3)\n",
    "\n",
    "# Minimize error using cross entropy\n",
    "with tf.name_scope('Cost'):\n",
    "    cost = tf.reduce_mean(tf.nn.softmax_cross_entropy_with_logits(hypothesis, Y))\n",
    "    tf.scalar_summary('Cost', cost)\n",
    "\n",
    "# Gradient Descent\n",
    "with tf.name_scope('Train'):\n",
    "    optimizer = tf.train.AdamOptimizer(learning_rate=learning_rate).minimize(cost)\n",
    "\n",
    "# Accuracy\n",
    "with tf.name_scope('Accuracy'):\n",
    "    accuracy = tf.reduce_mean(tf.cast(tf.equal(tf.argmax(hypothesis, 1), tf.argmax(Y, 1)), tf.float32))\n",
    "    tf.scalar_summary('Accuracy', accuracy)"
   ]
  },
  {
   "cell_type": "code",
   "execution_count": 4,
   "metadata": {
    "collapsed": false
   },
   "outputs": [
    {
     "name": "stdout",
     "output_type": "stream",
     "text": [
      "Accuracy 0.9793\n"
     ]
    }
   ],
   "source": [
    "# Launch the graph\n",
    "with tf.Session() as sess:\n",
    "    writer = tf.train.SummaryWriter('/logs/mnist/nn_xavier_' + timestamp, sess.graph)\n",
    "    merged = tf.merge_all_summaries()\n",
    "    \n",
    "    tf.initialize_all_variables().run()\n",
    "\n",
    "    # Training cycle\n",
    "    for epoch in range(training_epochs):\n",
    "        batch_xs, batch_ys = mnist.train.next_batch(batch_size)\n",
    "\n",
    "        # Fit training using batch data\n",
    "        _, summary = sess.run([optimizer, merged], feed_dict = {X: batch_xs, Y: batch_ys})\n",
    "\n",
    "        # Summarize\n",
    "        writer.add_summary(summary, epoch)\n",
    "\n",
    "    writer.close()\n",
    "    print('Accuracy', accuracy.eval({X: mnist.test.images, Y: mnist.test.labels}))"
   ]
  }
 ],
 "metadata": {
  "kernelspec": {
   "display_name": "Python 3",
   "language": "python",
   "name": "python3"
  },
  "language_info": {
   "codemirror_mode": {
    "name": "ipython",
    "version": 3
   },
   "file_extension": ".py",
   "mimetype": "text/x-python",
   "name": "python",
   "nbconvert_exporter": "python",
   "pygments_lexer": "ipython3",
   "version": "3.4.3"
  }
 },
 "nbformat": 4,
 "nbformat_minor": 1
}
