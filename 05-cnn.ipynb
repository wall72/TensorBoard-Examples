{
 "cells": [
  {
   "cell_type": "code",
   "execution_count": 1,
   "metadata": {
    "collapsed": false
   },
   "outputs": [
    {
     "name": "stdout",
     "output_type": "stream",
     "text": [
      "Extracting /tmp/data/train-images-idx3-ubyte.gz\n",
      "Extracting /tmp/data/train-labels-idx1-ubyte.gz\n",
      "Extracting /tmp/data/t10k-images-idx3-ubyte.gz\n",
      "Extracting /tmp/data/t10k-labels-idx1-ubyte.gz\n"
     ]
    }
   ],
   "source": [
    "import datetime as dt\n",
    "import random\n",
    "import tensorflow as tf\n",
    "\n",
    "# Get timestamp\n",
    "timestamp = dt.datetime.now().strftime('%Y%m%d%H%M%S')\n",
    "\n",
    "# Import MINST data\n",
    "from tensorflow.examples.tutorials.mnist import input_data\n",
    "mnist = input_data.read_data_sets(\"/tmp/data/\", one_hot=True)\n",
    "\n",
    "# Parameters\n",
    "learning_rate = 0.001\n",
    "training_epochs = 8000\n",
    "batch_size = 100\n",
    "display_step = 10"
   ]
  },
  {
   "cell_type": "code",
   "execution_count": 2,
   "metadata": {
    "collapsed": false
   },
   "outputs": [
    {
     "data": {
      "text/plain": [
       "<tf.Tensor 'HistogramSummary_4:0' shape=() dtype=string>"
      ]
     },
     "execution_count": 2,
     "metadata": {},
     "output_type": "execute_result"
    }
   ],
   "source": [
    "# X, Y\n",
    "X = tf.placeholder(tf.float32, [None, 784], name = 'X-input')\n",
    "Y = tf.placeholder(tf.float32, [None, 10], name = 'Y-input')\n",
    "\n",
    "# Weights\n",
    "W1 = tf.Variable(tf.random_normal([3, 3, 1, 32], stddev=0.01))      # 3x3x1 conv, 32 outputs\n",
    "W2 = tf.Variable(tf.random_normal([3, 3, 32, 64], stddev=0.01))     # 3x3x32 conv, 64 outputs\n",
    "W3 = tf.Variable(tf.random_normal([3, 3, 64, 128], stddev=0.01))    # 3x3x32 conv, 128 outputs\n",
    "W4 = tf.Variable(tf.random_normal([2048, 625], stddev=0.01))        # FC 128 * 4 * 4 inputs, 625 outputs\n",
    "W5 = tf.Variable(tf.random_normal([625, 10], stddev=0.01))          # FC 625 inputs, 10 outputs (labels)\n",
    "\n",
    "tf.histogram_summary('Weight1', W1)\n",
    "tf.histogram_summary('Weight2', W2)\n",
    "tf.histogram_summary('Weight3', W3)\n",
    "tf.histogram_summary('Weight4', W4)\n",
    "tf.histogram_summary('Weight5', W5)"
   ]
  },
  {
   "cell_type": "code",
   "execution_count": 3,
   "metadata": {
    "collapsed": false
   },
   "outputs": [
    {
     "name": "stdout",
     "output_type": "stream",
     "text": [
      "Tensor(\"Layer1/Relu:0\", shape=(?, 28, 28, 32), dtype=float32)\n",
      "Tensor(\"Layer1/MaxPool:0\", shape=(?, 14, 14, 32), dtype=float32)\n",
      "Tensor(\"Layer2/Relu:0\", shape=(?, 14, 14, 64), dtype=float32)\n",
      "Tensor(\"Layer2/MaxPool:0\", shape=(?, 7, 7, 64), dtype=float32)\n",
      "Tensor(\"Layer3/Relu:0\", shape=(?, 7, 7, 128), dtype=float32)\n",
      "Tensor(\"Layer3/MaxPool:0\", shape=(?, 4, 4, 128), dtype=float32)\n",
      "Tensor(\"Layer3/Reshape:0\", shape=(?, 2048), dtype=float32)\n"
     ]
    }
   ],
   "source": [
    "# Construct model\n",
    "dropout_cnn_rate = tf.placeholder(tf.float32)\n",
    "dropout_fcc_rate = tf.placeholder(tf.float32)\n",
    "X_image = tf.reshape(X, [-1, 28, 28, 1], name = 'X-input-reshape')\n",
    "\n",
    "with tf.name_scope('Layer1'):\n",
    "    l1a = tf.nn.relu(tf.nn.conv2d(X_image, W1, strides = [1, 1, 1, 1], padding = 'SAME'))\n",
    "    print(l1a) # l1a shape=(?, 28, 28, 32)\n",
    "    l1 = tf.nn.max_pool(l1a, ksize = [1, 2, 2, 1], strides = [1, 2, 2, 1], padding = 'SAME')\n",
    "    print(l1) # l1 shape=(?, 14, 14, 32)\n",
    "    l1 = tf.nn.dropout(l1, dropout_cnn_rate)\n",
    "\n",
    "with tf.name_scope('Layer2'):\n",
    "    l2a = tf.nn.relu(tf.nn.conv2d(l1, W2, strides = [1, 1, 1, 1], padding='SAME'))\n",
    "    print(l2a) # l2a shape=(?, 14, 14, 64)\n",
    "    l2 = tf.nn.max_pool(l2a, ksize = [1, 2, 2, 1], strides = [1, 2, 2, 1], padding='SAME')\n",
    "    print(l2) # l2 shape=(?, 7, 7, 64)\n",
    "    l2 = tf.nn.dropout(l2, dropout_cnn_rate)\n",
    "\n",
    "with tf.name_scope('Layer3'):\n",
    "    l3a = tf.nn.relu(tf.nn.conv2d(l2, W3, strides=[1, 1, 1, 1], padding='SAME'))\n",
    "    print(l3a) # l3a shape=(?, 7, 7, 128)\n",
    "    l3 = tf.nn.max_pool(l3a, ksize=[1, 2, 2, 1], strides=[1, 2, 2, 1], padding='SAME')\n",
    "    print(l3) # l3 shape=(?, 4, 4, 128)\n",
    "    l3 = tf.reshape(l3, [-1, W4.get_shape().as_list()[0]])\n",
    "    print(l3) # reshape to (?, 2048)\n",
    "    l3 = tf.nn.dropout(l3, dropout_cnn_rate)\n",
    "    \n",
    "with tf.name_scope('Layer4'):\n",
    "    l4 = tf.nn.relu(tf.matmul(l3, W4))\n",
    "    l4 = tf.nn.dropout(l4, dropout_fcc_rate)\n",
    "\n",
    "with tf.name_scope('Layer5'):\n",
    "    hypothesis = tf.matmul(l4, W5)\n",
    "\n",
    "\n",
    "# Minimize error using cross entropy\n",
    "with tf.name_scope('Cost'):\n",
    "    cost = tf.reduce_mean(tf.nn.softmax_cross_entropy_with_logits(hypothesis, Y))\n",
    "    tf.scalar_summary('Cost', cost)\n",
    "\n",
    "# Gradient Descent\n",
    "with tf.name_scope('Train'):\n",
    "    optimizer = tf.train.RMSPropOptimizer(0.001, 0.9).minimize(cost)\n",
    "\n",
    "# Accuracy\n",
    "with tf.name_scope('Accuracy'):\n",
    "    accuracy = tf.reduce_mean(tf.cast(tf.equal(tf.argmax(hypothesis, 1), tf.argmax(Y, 1)), tf.float32))\n",
    "    tf.scalar_summary('Accuracy', accuracy)"
   ]
  },
  {
   "cell_type": "code",
   "execution_count": 4,
   "metadata": {
    "collapsed": false
   },
   "outputs": [
    {
     "name": "stdout",
     "output_type": "stream",
     "text": [
      "Accuracy 0.9862\n"
     ]
    }
   ],
   "source": [
    "# Launch the graph\n",
    "with tf.Session() as sess:\n",
    "    writer = tf.train.SummaryWriter('/logs/mnist/cnn_' + timestamp, sess.graph)\n",
    "    merged = tf.merge_all_summaries()\n",
    "    \n",
    "    tf.initialize_all_variables().run()\n",
    "\n",
    "    # Training cycle\n",
    "    for epoch in range(training_epochs):\n",
    "        batch_xs, batch_ys = mnist.train.next_batch(batch_size)\n",
    "\n",
    "        # Fit training using batch data\n",
    "        _, summary = sess.run([optimizer, merged], feed_dict = {X: batch_xs, Y: batch_ys, dropout_cnn_rate: 0.7, dropout_fcc_rate: 0.5})\n",
    "\n",
    "        # Summarize\n",
    "        writer.add_summary(summary, epoch)\n",
    "\n",
    "    writer.close()\n",
    "    print('Accuracy', accuracy.eval({X: mnist.test.images, Y: mnist.test.labels, dropout_cnn_rate: 0.7, dropout_fcc_rate: 0.5}))"
   ]
  }
 ],
 "metadata": {
  "kernelspec": {
   "display_name": "Python 3",
   "language": "python",
   "name": "python3"
  },
  "language_info": {
   "codemirror_mode": {
    "name": "ipython",
    "version": 3
   },
   "file_extension": ".py",
   "mimetype": "text/x-python",
   "name": "python",
   "nbconvert_exporter": "python",
   "pygments_lexer": "ipython3",
   "version": "3.4.3"
  }
 },
 "nbformat": 4,
 "nbformat_minor": 1
}
